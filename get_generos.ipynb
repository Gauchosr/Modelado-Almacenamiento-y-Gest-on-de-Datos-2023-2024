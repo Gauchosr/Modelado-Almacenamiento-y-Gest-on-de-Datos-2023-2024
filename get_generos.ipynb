{
 "cells": [
  {
   "cell_type": "markdown",
   "id": "36158e9c-d938-4ba2-bf45-8cc5cd88b97d",
   "metadata": {},
   "source": [
    "# PRATICA 1 - Generación de una tabla que contiene, para cada género, la identificación correspondiente a partir de la columna \"géneros\" del conjunto de datos proporcionado"
   ]
  },
  {
   "cell_type": "markdown",
   "id": "d03a238e-4c3f-4386-995f-b3fde981171f",
   "metadata": {},
   "source": [
    "### instalación de las bibliotecas necesarias"
   ]
  },
  {
   "cell_type": "code",
   "execution_count": null,
   "id": "b2ace8a4-f70b-4a18-b0ad-4dcc6f324619",
   "metadata": {},
   "outputs": [],
   "source": [
    "import pandas as pd\n",
    "import json"
   ]
  },
  {
   "cell_type": "markdown",
   "id": "30c3a91b-8dab-4dab-913e-30d091046f0f",
   "metadata": {},
   "source": [
    "### cargar el conjunto de datos en formato csv"
   ]
  },
  {
   "cell_type": "code",
   "execution_count": 42,
   "id": "330d466d-9651-4568-96c2-d2f3d30ff929",
   "metadata": {},
   "outputs": [
    {
     "name": "stderr",
     "output_type": "stream",
     "text": [
      "/tmp/ipykernel_129/594447300.py:1: DtypeWarning: Columns (10) have mixed types. Specify dtype option on import or set low_memory=False.\n",
      "  movies_df = pd.read_csv('database/movies_metadata.csv')\n"
     ]
    }
   ],
   "source": [
    "movies_df = pd.read_csv('database/movies_metadata.csv')"
   ]
  },
  {
   "cell_type": "markdown",
   "id": "a9ac2278-dc61-4dbc-816b-e279a97d5c57",
   "metadata": {},
   "source": [
    "### aislamiento de la columna \"genres\""
   ]
  },
  {
   "cell_type": "code",
   "execution_count": 43,
   "id": "0827dc61-6353-4b47-9202-48aee7fac829",
   "metadata": {},
   "outputs": [],
   "source": [
    "genres = movies_df[\"genres\"]"
   ]
  },
  {
   "cell_type": "markdown",
   "id": "2cb3ef7b-a71f-4d2b-a219-47ed212056a8",
   "metadata": {},
   "source": [
    "### reemplazo las comillas simples por comillas dobles"
   ]
  },
  {
   "cell_type": "code",
   "execution_count": 44,
   "id": "0f20501c-8899-4766-8b84-73a35655e432",
   "metadata": {},
   "outputs": [],
   "source": [
    "genres_corretti = genres.str.replace(\"'\", '\"')"
   ]
  },
  {
   "cell_type": "markdown",
   "id": "e34b1bae-b535-4dac-a824-a93c1aa65e83",
   "metadata": {},
   "source": [
    "### aplico la función f a todos los elementos de la serie Pandas, convirtiendo la cadena JSON en un DataFrame de pandas"
   ]
  },
  {
   "cell_type": "code",
   "execution_count": null,
   "id": "e603303c-e0fa-4330-bc55-1230a292e177",
   "metadata": {},
   "outputs": [],
   "source": [
    "def f(x): \n",
    "    return pd.read_json(x)\n",
    "ris = genres_corretti.apply(f)"
   ]
  },
  {
   "cell_type": "markdown",
   "id": "8e859bb9-f3be-4b91-8ec1-8105c301b002",
   "metadata": {},
   "source": [
    "### convierto la serie de pandas en una lista de DataFrame"
   ]
  },
  {
   "cell_type": "code",
   "execution_count": 46,
   "id": "eb087855-b2c2-4365-baa8-d86299963d8c",
   "metadata": {},
   "outputs": [],
   "source": [
    "list_ris = list(ris)"
   ]
  },
  {
   "cell_type": "markdown",
   "id": "51030302-549c-4d0c-9a73-89287229e4e9",
   "metadata": {},
   "source": [
    "### concateno los elementos de la lista en un solo DataFrame"
   ]
  },
  {
   "cell_type": "code",
   "execution_count": 47,
   "id": "063a5542-5ea3-4d96-a80f-4c3bea462d23",
   "metadata": {},
   "outputs": [],
   "source": [
    "concatenato = pd.concat(list_ris, ignore_index=True)"
   ]
  },
  {
   "cell_type": "markdown",
   "id": "49b0820a-92f1-412e-adaa-e3c48f48d1c2",
   "metadata": {},
   "source": [
    "### elimino duplicados, haciendo que el DataFrame no sea redundante"
   ]
  },
  {
   "cell_type": "code",
   "execution_count": 48,
   "id": "0606abc2-5164-465f-a6e7-5a9e61dd90bc",
   "metadata": {},
   "outputs": [],
   "source": [
    "senza_duplicati = concatenato.drop_duplicates()"
   ]
  },
  {
   "cell_type": "markdown",
   "id": "e0ec47ac-6b68-46b0-9f07-ec77bf15d7f4",
   "metadata": {},
   "source": [
    "### ordeno el DataFrame por indice"
   ]
  },
  {
   "cell_type": "code",
   "execution_count": 49,
   "id": "03d8e3a9-3bf6-48c8-a70e-0f25775e5828",
   "metadata": {},
   "outputs": [],
   "source": [
    "ordinato = senza_duplicati.sort_values(by='id')"
   ]
  },
  {
   "cell_type": "markdown",
   "id": "11c34708-29d2-4a46-ae35-a31ecb965b34",
   "metadata": {},
   "source": [
    "### restauro los índices del DataFrame"
   ]
  },
  {
   "cell_type": "code",
   "execution_count": 50,
   "id": "5100c7c6-67ec-4036-a574-57c1cc74baeb",
   "metadata": {},
   "outputs": [],
   "source": [
    "ordinato_def = ordinato.reset_index(drop=True)"
   ]
  },
  {
   "cell_type": "markdown",
   "id": "3a8ae8c6-6228-4be5-b43e-c9fb6aee79dd",
   "metadata": {},
   "source": [
    "### genero el csv"
   ]
  },
  {
   "cell_type": "code",
   "execution_count": 51,
   "id": "24538e14-4abb-48a1-83cf-88487d53e1c5",
   "metadata": {},
   "outputs": [],
   "source": [
    "ordinato_def.to_csv('generos.csv',index=False)"
   ]
  }
 ],
 "metadata": {
  "kernelspec": {
   "display_name": "Python 3 (ipykernel)",
   "language": "python",
   "name": "python3"
  },
  "language_info": {
   "codemirror_mode": {
    "name": "ipython",
    "version": 3
   },
   "file_extension": ".py",
   "mimetype": "text/x-python",
   "name": "python",
   "nbconvert_exporter": "python",
   "pygments_lexer": "ipython3",
   "version": "3.11.5"
  }
 },
 "nbformat": 4,
 "nbformat_minor": 5
}
